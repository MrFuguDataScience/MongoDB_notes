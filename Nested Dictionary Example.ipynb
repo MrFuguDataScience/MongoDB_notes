{
 "cells": [
  {
   "cell_type": "markdown",
   "metadata": {},
   "source": [
    "# Create Nested Dictionary (JSON) Dataset:\n",
    "\n",
    "**`with Mr Fugu Data Science`**\n",
    "\n",
    "\n",
    "# (◕‿◕✿)\n",
    "\n",
    "[Youtube](https://www.youtube.com/channel/UCbni-TDI-Ub8VlGaP8HLTNw/) | [Github](https://github.com/MrFuguDataScience)\n",
    "\n",
    "\n",
    "# Objective and Outcome:\n",
    "\n",
    "+ Create a Nested Dictionary (Nested JSON) format\n",
    "    + Understand pitfalls when using Dataframes to create nested JSON objects\n",
    "        + Evaluate Dataframes stored as json/dict .csv problems\n",
    "+ Create a Function to store our data properly\n",
    "    + Describe the format and ability to finally send to Mongo if you needed."
   ]
  },
  {
   "cell_type": "code",
   "execution_count": 1,
   "metadata": {},
   "outputs": [],
   "source": [
    "import faker        # Crete fake People\n",
    "import pandas as pd # Dataframes\n",
    "import random       # random number generation\n",
    "import requests     # grab web-page\n",
    "from bs4 import BeautifulSoup as bsopa  #parse web-page \n",
    "import re # regex parsing"
   ]
  },
  {
   "cell_type": "code",
   "execution_count": 2,
   "metadata": {},
   "outputs": [
    {
     "data": {
      "text/plain": [
       "[['skLearn', 'Java', 'R', 'SQL', 'Spark', 'C++'],\n",
       " ['TensorFlow', 'R', 'Spark', 'MongoDB', 'C++', 'SQL'],\n",
       " ['Spark'],\n",
       " ['skLearn', 'SQL', 'R', 'Spark', 'Java', 'C++', 'Python', 'TensorFlow'],\n",
       " ['TensorFlow', 'C++', 'SQL', 'Java', 'R', 'MongoDB']]"
      ]
     },
     "execution_count": 2,
     "metadata": {},
     "output_type": "execute_result"
    }
   ],
   "source": [
    "\"\"\"\n",
    "I want to generate skills of employees ranging from 1:(1-len(skills) list).\n",
    "I am generating 500 entries, because I will populate 500 fake prospective employees\n",
    "to use in my Fake Employment Recruiter Database today.\n",
    "\n",
    "\"\"\"\n",
    "\n",
    "skills=['Python','Java','SQL','MongoDB','R','C++','Spark','TensorFlow','skLearn']\n",
    "\n",
    "\n",
    "def create_rndm_sklls(skills):\n",
    "    random.seed(300) # USE TO KEEP DATA CONSISTENT\n",
    "    randomlist = []\n",
    "    for i in range(0,500):\n",
    "        n = random.randint(1,len(skills)) # mention this!\n",
    "        randomlist.append(n)\n",
    "#     print(randomlist)\n",
    "\n",
    "    lst_skills_per_person=[]\n",
    "    for i in randomlist:\n",
    "        lst_skills_per_person.extend([random.sample(skills, i)])\n",
    "    lst_skills_per_person\n",
    "    return lst_skills_per_person\n",
    "\n",
    "create_rndm_sklls(skills)[:5]"
   ]
  },
  {
   "cell_type": "code",
   "execution_count": 3,
   "metadata": {},
   "outputs": [
    {
     "data": {
      "text/plain": [
       "[['Margaret', 'Mcdonald'],\n",
       " ['Michael', 'Carter'],\n",
       " ['Brenda', 'Tyler'],\n",
       " ['Joseph', 'King'],\n",
       " ['Laura', 'Webb']]"
      ]
     },
     "execution_count": 3,
     "metadata": {},
     "output_type": "execute_result"
    }
   ],
   "source": [
    "fake_=faker.Faker()\n",
    "fake_.seed(413)\n",
    "fake_name=[]\n",
    "for i in range(500):\n",
    "    if i not in fake_name:\n",
    "        fake_name.append(fake_.name().split(' '))\n",
    "        \n",
    "fake_name[:5]"
   ]
  },
  {
   "cell_type": "code",
   "execution_count": 4,
   "metadata": {},
   "outputs": [],
   "source": [
    "response=requests.get(\"https://www.softschools.com/social_studies/state_abbreviations/\")\n",
    "\n",
    "response.status_code # checking that the request was (ok=200)\n",
    "\n",
    "soupie=bsopa(response.text,'lxml')  # converting format\n",
    "\n",
    "html_source=soupie.find('div',{\"class\":\"middlecol\"}) # html source code\n",
    "\n",
    "# tags=html_source.find('a').find_all('href')\n"
   ]
  },
  {
   "cell_type": "code",
   "execution_count": 5,
   "metadata": {},
   "outputs": [],
   "source": [
    "# Get US State Abreviations:\n",
    "\n",
    "table = html_source.find('table' ,attrs={'class':'colorBgGreen'})\n",
    "first_td = table.find('tr')\n",
    "text=first_td.renderContents()\n",
    "text_=text.decode(\"utf-8\") # convert bytes to string\n",
    "jj=text_.split('\\n')\n",
    "\n",
    "state_td_tags=[]\n",
    "for i in jj:\n",
    "    if re.findall(r'\\b[A-Z]{2}\\b',i):\n",
    "#         trr.append(i.replace('<td>','').replace('</td>',''))\n",
    "        state_td_tags.append(i.replace('<td>','').replace('</td>',''))\n",
    "    \n",
    "state_abbr=state_td_tags[:-2] #the last two lines i didn't need US Territories\n",
    "# state_abbr\n"
   ]
  },
  {
   "cell_type": "code",
   "execution_count": 6,
   "metadata": {},
   "outputs": [],
   "source": [
    "state_rnd=random.choices(state_abbr,k=500)\n",
    "# state_rnd"
   ]
  },
  {
   "cell_type": "code",
   "execution_count": 7,
   "metadata": {},
   "outputs": [],
   "source": [
    "# Relocation: (Employee willing to relocate?)\n",
    "willing_to_relocate=['yes','no','maybe']\n",
    "relocation_=random.choices(willing_to_relocate,k=500)"
   ]
  },
  {
   "cell_type": "code",
   "execution_count": 8,
   "metadata": {},
   "outputs": [],
   "source": [
    "# Nested Data:\n",
    "\n",
    "specialty=['Machine Learning','Data Visualization','Database','Statistics']\n",
    "experience_level=['Junior','Mid','Senior']\n",
    "\n",
    "spec_=random.choices(specialty,k=500)\n",
    "exper_=random.choices(experience_level,k=500)\n",
    "sp=['specialty']*500\n",
    "exp=['experience']*500\n",
    "my_list=list(zip(sp,spec_))\n",
    "my_list2=list(zip(exp,exper_))\n",
    "\n",
    "\n",
    "dict_specialty=[{key: value} for (key, value) in my_list]\n",
    "\n",
    "dict_exper=[{key: value} for (key, value) in my_list2]\n",
    "\n",
    "# This will be our tuple of dictionary pairs:\n",
    "spec_exp=list(zip(dict_specialty,dict_exper))\n",
    "# my_list\n",
    "# dict_specialty\n",
    "# spec_exp"
   ]
  },
  {
   "cell_type": "code",
   "execution_count": 9,
   "metadata": {},
   "outputs": [
    {
     "data": {
      "text/plain": [
       "[('Margaret',\n",
       "  'Mcdonald',\n",
       "  ['skLearn', 'Java', 'R', 'SQL', 'Spark', 'C++'],\n",
       "  'AL',\n",
       "  ({'specialty': 'Database'}, {'experience': 'Mid'}),\n",
       "  'no'),\n",
       " ('Michael',\n",
       "  'Carter',\n",
       "  ['TensorFlow', 'R', 'Spark', 'MongoDB', 'C++', 'SQL'],\n",
       "  'AR',\n",
       "  ({'specialty': 'Statistics'}, {'experience': 'Senior'}),\n",
       "  'yes')]"
      ]
     },
     "execution_count": 9,
     "metadata": {},
     "output_type": "execute_result"
    }
   ],
   "source": [
    "# Generating, the full dataset\n",
    "\n",
    "first_name=[]\n",
    "last_name=[]\n",
    "for i in fake_name:\n",
    "    first_name.append(i[0])\n",
    "    last_name.append(i[1])\n",
    "\n",
    "\n",
    "nested_ppl=list(zip(first_name,last_name,create_rndm_sklls(skills),\n",
    "                    state_rnd,spec_exp,relocation_))\n",
    "nested_ppl[:2]"
   ]
  },
  {
   "cell_type": "code",
   "execution_count": 10,
   "metadata": {},
   "outputs": [
    {
     "data": {
      "text/html": [
       "<div>\n",
       "<style scoped>\n",
       "    .dataframe tbody tr th:only-of-type {\n",
       "        vertical-align: middle;\n",
       "    }\n",
       "\n",
       "    .dataframe tbody tr th {\n",
       "        vertical-align: top;\n",
       "    }\n",
       "\n",
       "    .dataframe thead th {\n",
       "        text-align: right;\n",
       "    }\n",
       "</style>\n",
       "<table border=\"1\" class=\"dataframe\">\n",
       "  <thead>\n",
       "    <tr style=\"text-align: right;\">\n",
       "      <th></th>\n",
       "      <th>first_name</th>\n",
       "      <th>last_name</th>\n",
       "      <th>skills</th>\n",
       "      <th>state</th>\n",
       "      <th>specialty_exper</th>\n",
       "      <th>relocation</th>\n",
       "    </tr>\n",
       "  </thead>\n",
       "  <tbody>\n",
       "    <tr>\n",
       "      <th>0</th>\n",
       "      <td>Margaret</td>\n",
       "      <td>Mcdonald</td>\n",
       "      <td>[skLearn, Java, R, SQL, Spark, C++]</td>\n",
       "      <td>AL</td>\n",
       "      <td>({'specialty': 'Database'}, {'experience': 'Mi...</td>\n",
       "      <td>no</td>\n",
       "    </tr>\n",
       "    <tr>\n",
       "      <th>1</th>\n",
       "      <td>Michael</td>\n",
       "      <td>Carter</td>\n",
       "      <td>[TensorFlow, R, Spark, MongoDB, C++, SQL]</td>\n",
       "      <td>AR</td>\n",
       "      <td>({'specialty': 'Statistics'}, {'experience': '...</td>\n",
       "      <td>yes</td>\n",
       "    </tr>\n",
       "    <tr>\n",
       "      <th>2</th>\n",
       "      <td>Brenda</td>\n",
       "      <td>Tyler</td>\n",
       "      <td>[Spark]</td>\n",
       "      <td>UT</td>\n",
       "      <td>({'specialty': 'Database'}, {'experience': 'Mi...</td>\n",
       "      <td>no</td>\n",
       "    </tr>\n",
       "    <tr>\n",
       "      <th>3</th>\n",
       "      <td>Joseph</td>\n",
       "      <td>King</td>\n",
       "      <td>[skLearn, SQL, R, Spark, Java, C++, Python, Te...</td>\n",
       "      <td>FL</td>\n",
       "      <td>({'specialty': 'Machine Learning'}, {'experien...</td>\n",
       "      <td>maybe</td>\n",
       "    </tr>\n",
       "    <tr>\n",
       "      <th>4</th>\n",
       "      <td>Laura</td>\n",
       "      <td>Webb</td>\n",
       "      <td>[TensorFlow, C++, SQL, Java, R, MongoDB]</td>\n",
       "      <td>WY</td>\n",
       "      <td>({'specialty': 'Machine Learning'}, {'experien...</td>\n",
       "      <td>maybe</td>\n",
       "    </tr>\n",
       "  </tbody>\n",
       "</table>\n",
       "</div>"
      ],
      "text/plain": [
       "  first_name last_name                                             skills  \\\n",
       "0   Margaret  Mcdonald                [skLearn, Java, R, SQL, Spark, C++]   \n",
       "1    Michael    Carter          [TensorFlow, R, Spark, MongoDB, C++, SQL]   \n",
       "2     Brenda     Tyler                                            [Spark]   \n",
       "3     Joseph      King  [skLearn, SQL, R, Spark, Java, C++, Python, Te...   \n",
       "4      Laura      Webb           [TensorFlow, C++, SQL, Java, R, MongoDB]   \n",
       "\n",
       "  state                                    specialty_exper relocation  \n",
       "0    AL  ({'specialty': 'Database'}, {'experience': 'Mi...         no  \n",
       "1    AR  ({'specialty': 'Statistics'}, {'experience': '...        yes  \n",
       "2    UT  ({'specialty': 'Database'}, {'experience': 'Mi...         no  \n",
       "3    FL  ({'specialty': 'Machine Learning'}, {'experien...      maybe  \n",
       "4    WY  ({'specialty': 'Machine Learning'}, {'experien...      maybe  "
      ]
     },
     "execution_count": 10,
     "metadata": {},
     "output_type": "execute_result"
    }
   ],
   "source": [
    "cols=['first_name','last_name','skills','state','specialty_exper','relocation']\n",
    "job_seekers_=pd.DataFrame(nested_ppl,columns=cols,)\n",
    "\n",
    "pd.DataFrame.to_csv(job_seekers_,'job_seekers.csv')\n",
    "job_seekers_.head()"
   ]
  },
  {
   "cell_type": "markdown",
   "metadata": {},
   "source": [
    "# Creating Actual `Nested Dictionary (JSON)` format for MongoDB"
   ]
  },
  {
   "cell_type": "code",
   "execution_count": 19,
   "metadata": {},
   "outputs": [
    {
     "data": {
      "text/html": [
       "<div>\n",
       "<style scoped>\n",
       "    .dataframe tbody tr th:only-of-type {\n",
       "        vertical-align: middle;\n",
       "    }\n",
       "\n",
       "    .dataframe tbody tr th {\n",
       "        vertical-align: top;\n",
       "    }\n",
       "\n",
       "    .dataframe thead th {\n",
       "        text-align: right;\n",
       "    }\n",
       "</style>\n",
       "<table border=\"1\" class=\"dataframe\">\n",
       "  <thead>\n",
       "    <tr style=\"text-align: right;\">\n",
       "      <th></th>\n",
       "      <th>first_name</th>\n",
       "      <th>last_name</th>\n",
       "      <th>skills</th>\n",
       "      <th>state</th>\n",
       "      <th>specialty</th>\n",
       "      <th>experience</th>\n",
       "      <th>relocation</th>\n",
       "    </tr>\n",
       "  </thead>\n",
       "  <tbody>\n",
       "    <tr>\n",
       "      <th>0</th>\n",
       "      <td>Margaret</td>\n",
       "      <td>Mcdonald</td>\n",
       "      <td>[skLearn, Java, R, SQL, Spark, C++]</td>\n",
       "      <td>AL</td>\n",
       "      <td>Database</td>\n",
       "      <td>Mid</td>\n",
       "      <td>no</td>\n",
       "    </tr>\n",
       "    <tr>\n",
       "      <th>1</th>\n",
       "      <td>Michael</td>\n",
       "      <td>Carter</td>\n",
       "      <td>[TensorFlow, R, Spark, MongoDB, C++, SQL]</td>\n",
       "      <td>AR</td>\n",
       "      <td>Statistics</td>\n",
       "      <td>Senior</td>\n",
       "      <td>yes</td>\n",
       "    </tr>\n",
       "    <tr>\n",
       "      <th>2</th>\n",
       "      <td>Brenda</td>\n",
       "      <td>Tyler</td>\n",
       "      <td>[Spark]</td>\n",
       "      <td>UT</td>\n",
       "      <td>Database</td>\n",
       "      <td>Mid</td>\n",
       "      <td>no</td>\n",
       "    </tr>\n",
       "    <tr>\n",
       "      <th>3</th>\n",
       "      <td>Joseph</td>\n",
       "      <td>King</td>\n",
       "      <td>[skLearn, SQL, R, Spark, Java, C++, Python, Te...</td>\n",
       "      <td>FL</td>\n",
       "      <td>Machine Learning</td>\n",
       "      <td>Senior</td>\n",
       "      <td>maybe</td>\n",
       "    </tr>\n",
       "    <tr>\n",
       "      <th>4</th>\n",
       "      <td>Laura</td>\n",
       "      <td>Webb</td>\n",
       "      <td>[TensorFlow, C++, SQL, Java, R, MongoDB]</td>\n",
       "      <td>WY</td>\n",
       "      <td>Machine Learning</td>\n",
       "      <td>Junior</td>\n",
       "      <td>maybe</td>\n",
       "    </tr>\n",
       "  </tbody>\n",
       "</table>\n",
       "</div>"
      ],
      "text/plain": [
       "  first_name last_name                                             skills  \\\n",
       "0   Margaret  Mcdonald                [skLearn, Java, R, SQL, Spark, C++]   \n",
       "1    Michael    Carter          [TensorFlow, R, Spark, MongoDB, C++, SQL]   \n",
       "2     Brenda     Tyler                                            [Spark]   \n",
       "3     Joseph      King  [skLearn, SQL, R, Spark, Java, C++, Python, Te...   \n",
       "4      Laura      Webb           [TensorFlow, C++, SQL, Java, R, MongoDB]   \n",
       "\n",
       "  state         specialty experience relocation  \n",
       "0    AL          Database        Mid         no  \n",
       "1    AR        Statistics     Senior        yes  \n",
       "2    UT          Database        Mid         no  \n",
       "3    FL  Machine Learning     Senior      maybe  \n",
       "4    WY  Machine Learning     Junior      maybe  "
      ]
     },
     "execution_count": 19,
     "metadata": {},
     "output_type": "execute_result"
    }
   ],
   "source": [
    "candidates_=list(zip(first_name,last_name,create_rndm_sklls(skills),\n",
    "                    state_rnd,spec_,exper_,relocation_))\n",
    "cols_=['first_name','last_name','skills','state','specialty','experience','relocation']\n",
    "\n",
    "un_nested_candidates=pd.DataFrame(candidates_,columns=cols_)\n",
    "un_nested_candidates.head()"
   ]
  },
  {
   "cell_type": "code",
   "execution_count": 14,
   "metadata": {},
   "outputs": [
    {
     "data": {
      "text/plain": [
       "dict"
      ]
     },
     "execution_count": 14,
     "metadata": {},
     "output_type": "execute_result"
    }
   ],
   "source": [
    "def df_to_nested_json(df, candidate, lat='state'):\n",
    "    _json = {'features':[]}\n",
    "    \n",
    "    for _, row in df.iterrows():\n",
    "        feature = {'candidate':{}}\n",
    "#                    'specialty_experience':{}\n",
    "#         feature['specialty_experience']['state'] = [row[lat]]\n",
    "#         feature['specialty_experience']['skills'] = [row[lon]\n",
    "        for prop in candidate:\n",
    "            feature['candidate'][prop] = row[prop]\n",
    "        _json['features'].append(feature)\n",
    "    return _json\n",
    "\n",
    "#-------------------------\n",
    "\n",
    "cols=un_nested_candidates.columns\n",
    "\n",
    "people_json=df_to_nested_json(un_nested_candidates, cols)\n",
    "\n",
    "people_json['features'][:2]\n",
    "\n",
    "people_json"
   ]
  },
  {
   "cell_type": "code",
   "execution_count": 15,
   "metadata": {},
   "outputs": [],
   "source": [
    "import json\n",
    "\n",
    "with open('employee_data.json', 'w') as fp:\n",
    "    json.dump(people_json, fp)"
   ]
  }
 ],
 "metadata": {
  "kernelspec": {
   "display_name": "Python 3",
   "language": "python",
   "name": "python3"
  },
  "language_info": {
   "codemirror_mode": {
    "name": "ipython",
    "version": 3
   },
   "file_extension": ".py",
   "mimetype": "text/x-python",
   "name": "python",
   "nbconvert_exporter": "python",
   "pygments_lexer": "ipython3",
   "version": "3.7.3"
  }
 },
 "nbformat": 4,
 "nbformat_minor": 4
}
