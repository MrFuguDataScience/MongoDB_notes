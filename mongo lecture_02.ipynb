{
 "cells": [
  {
   "cell_type": "markdown",
   "metadata": {},
   "source": [
    "# MongoDB Lecture 02:\n",
    "\n",
    "**`with Mr Fugu Data Science`**\n",
    "\n",
    "\n",
    "# (◕‿◕✿)\n",
    "\n",
    "[Youtube](https://www.youtube.com/channel/UCbni-TDI-Ub8VlGaP8HLTNw/) | [Github](https://github.com/MrFuguDataScience)\n"
   ]
  },
  {
   "cell_type": "markdown",
   "metadata": {},
   "source": [
    "# Objective & Outcome:\n",
    "\n",
    "+ Create Updates\n",
    "    + Deal with Nested data\n",
    "        + Indexing\n",
    "    \n",
    "            + Aggregates"
   ]
  },
  {
   "cell_type": "code",
   "execution_count": 190,
   "metadata": {},
   "outputs": [],
   "source": [
    "import faker # Crete fake People\n",
    "import pandas as pd # Dataframes\n",
    "import random # random number generation\n",
    "import requests  # grab web-page\n",
    "from bs4 import BeautifulSoup as bsopa  #parse web-page \n",
    "import re # regex parsing\n",
    "import pymongo as pym"
   ]
  },
  {
   "cell_type": "code",
   "execution_count": 173,
   "metadata": {},
   "outputs": [
    {
     "data": {
      "text/plain": [
       "[['skLearn', 'Java', 'R', 'SQL', 'Spark', 'C++'],\n",
       " ['TensorFlow', 'R', 'Spark', 'MongoDB', 'C++', 'SQL'],\n",
       " ['Spark'],\n",
       " ['skLearn', 'SQL', 'R', 'Spark', 'Java', 'C++', 'Python', 'TensorFlow'],\n",
       " ['TensorFlow', 'C++', 'SQL', 'Java', 'R', 'MongoDB']]"
      ]
     },
     "execution_count": 173,
     "metadata": {},
     "output_type": "execute_result"
    }
   ],
   "source": [
    "\"\"\"\n",
    "I want to generate skills of employees ranging from 1:(1-len(skills) list).\n",
    "I am generating 500 entries, because I will populate 500 fake prospective employees\n",
    "to use in my Fake Employment Recruiter Database today.\n",
    "\n",
    "\"\"\"\n",
    "\n",
    "skills=['Python','Java','SQL','MongoDB','R','C++','Spark','TensorFlow','skLearn']\n",
    "\n",
    "\n",
    "def create_rndm_sklls(skills):\n",
    "    random.seed(300) # USE TO KEEP DATA CONSISTENT\n",
    "    randomlist = []\n",
    "    for i in range(0,500):\n",
    "        n = random.randint(1,len(skills))\n",
    "        randomlist.append(n)\n",
    "    # print(randomlist)\n",
    "\n",
    "    lst_skills_per_person=[]\n",
    "    for i in randomlist:\n",
    "        lst_skills_per_person.extend([random.sample(skills, i)])\n",
    "    lst_skills_per_person\n",
    "    return lst_skills_per_person\n",
    "\n",
    "create_rndm_sklls(skills)[:5]"
   ]
  },
  {
   "cell_type": "code",
   "execution_count": 174,
   "metadata": {},
   "outputs": [
    {
     "data": {
      "text/plain": [
       "[['Margaret', 'Mcdonald'],\n",
       " ['Michael', 'Carter'],\n",
       " ['Brenda', 'Tyler'],\n",
       " ['Joseph', 'King'],\n",
       " ['Laura', 'Webb']]"
      ]
     },
     "execution_count": 174,
     "metadata": {},
     "output_type": "execute_result"
    }
   ],
   "source": [
    "fake_=faker.Faker()\n",
    "fake_.seed(413)\n",
    "fake_name=[]\n",
    "for i in range(500):\n",
    "    if i not in fake_name:\n",
    "        fake_name.append(fake_.name().split(' '))\n",
    "        \n",
    "fake_name[:5]\n"
   ]
  },
  {
   "cell_type": "code",
   "execution_count": 175,
   "metadata": {},
   "outputs": [],
   "source": [
    "response=requests.get(\"https://www.softschools.com/social_studies/state_abbreviations/\")\n",
    "\n",
    "response.status_code # checking that the request was (ok=200)\n",
    "\n",
    "soupie=bsopa(response.text,'lxml')  # converting format\n",
    "\n",
    "html_source=soupie.find('div',{\"class\":\"middlecol\"}) # html source code\n",
    "\n",
    "# tags=html_source.find('a').find_all('href')\n"
   ]
  },
  {
   "cell_type": "code",
   "execution_count": 176,
   "metadata": {},
   "outputs": [],
   "source": [
    "# Get US State Abreviations:\n",
    "\n",
    "table = html_source.find('table' ,attrs={'class':'colorBgGreen'})\n",
    "first_td = table.find('tr')\n",
    "text=first_td.renderContents()\n",
    "text_=text.decode(\"utf-8\") # convert bytes to string\n",
    "jj=text_.split('\\n')\n",
    "\n",
    "state_td_tags=[]\n",
    "for i in jj:\n",
    "    if re.findall(r'\\b[A-Z]{2}\\b',i):\n",
    "#         trr.append(i.replace('<td>','').replace('</td>',''))\n",
    "        state_td_tags.append(i.replace('<td>','').replace('</td>',''))\n",
    "    \n",
    "state_abbr=state_td_tags[:-2] #the last two lines i didn't need US Territories\n",
    "# state_abbr\n"
   ]
  },
  {
   "cell_type": "code",
   "execution_count": 177,
   "metadata": {},
   "outputs": [],
   "source": [
    "# 500 random US states using, (N CHOOSE K):\n",
    "\n",
    "state_rnd=random.choices(state_abbr,k=500)"
   ]
  },
  {
   "cell_type": "code",
   "execution_count": 178,
   "metadata": {},
   "outputs": [],
   "source": [
    "# Relocation: (Employee willing to relocate?)\n",
    "willing_to_relocate=['yes','no','maybe']\n",
    "relocation_=random.choices(willing_to_relocate,k=500)"
   ]
  },
  {
   "cell_type": "code",
   "execution_count": 233,
   "metadata": {},
   "outputs": [],
   "source": [
    "# Nested Data:\n",
    "\n",
    "specialty=['Machine Learning','Data Visualization','Database','Statistics']\n",
    "experience_level=['Junior','Mid','Senior']\n",
    "\n",
    "spec_=random.choices(specialty,k=500)\n",
    "exper_=random.choices(experience_level,k=500)\n",
    "sp=['specialty']*500\n",
    "exp=['experience']*500\n",
    "my_list=list(zip(sp,spec_))\n",
    "my_list2=list(zip(exp,exper_))\n",
    "\n",
    "\n",
    "dict_specialty=[{key: value} for (key, value) in my_list]\n",
    "\n",
    "dict_exper=[{key: value} for (key, value) in my_list2]\n",
    "\n",
    "# This will be our tuple of dictionary pairs:\n",
    "spec_exp=list(zip(dict_specialty,dict_exper))\n"
   ]
  },
  {
   "cell_type": "code",
   "execution_count": 234,
   "metadata": {},
   "outputs": [
    {
     "data": {
      "text/plain": [
       "[('Margaret',\n",
       "  'Mcdonald',\n",
       "  ['skLearn', 'Java', 'R', 'SQL', 'Spark', 'C++'],\n",
       "  'AL',\n",
       "  ({'specialty': 'Database'}, {'experience': 'Junior'}),\n",
       "  'no'),\n",
       " ('Michael',\n",
       "  'Carter',\n",
       "  ['TensorFlow', 'R', 'Spark', 'MongoDB', 'C++', 'SQL'],\n",
       "  'AR',\n",
       "  ({'specialty': 'Data Visualization'}, {'experience': 'Junior'}),\n",
       "  'yes')]"
      ]
     },
     "execution_count": 234,
     "metadata": {},
     "output_type": "execute_result"
    }
   ],
   "source": [
    "# Generating, the full dataset\n",
    "\n",
    "first_name=[]\n",
    "last_name=[]\n",
    "for i in fake_name:\n",
    "    first_name.append(i[0])\n",
    "    last_name.append(i[1])\n",
    "\n",
    "\n",
    "nested_ppl=list(zip(first_name,last_name,create_rndm_sklls(skills),\n",
    "                    state_rnd,spec_exp,relocation_))\n",
    "nested_ppl[:2]"
   ]
  },
  {
   "cell_type": "code",
   "execution_count": 235,
   "metadata": {},
   "outputs": [
    {
     "data": {
      "text/html": [
       "<div>\n",
       "<style scoped>\n",
       "    .dataframe tbody tr th:only-of-type {\n",
       "        vertical-align: middle;\n",
       "    }\n",
       "\n",
       "    .dataframe tbody tr th {\n",
       "        vertical-align: top;\n",
       "    }\n",
       "\n",
       "    .dataframe thead th {\n",
       "        text-align: right;\n",
       "    }\n",
       "</style>\n",
       "<table border=\"1\" class=\"dataframe\">\n",
       "  <thead>\n",
       "    <tr style=\"text-align: right;\">\n",
       "      <th></th>\n",
       "      <th>first_name</th>\n",
       "      <th>last_name</th>\n",
       "      <th>skills</th>\n",
       "      <th>state</th>\n",
       "      <th>specialty_exper</th>\n",
       "      <th>relocation</th>\n",
       "    </tr>\n",
       "  </thead>\n",
       "  <tbody>\n",
       "    <tr>\n",
       "      <th>0</th>\n",
       "      <td>Margaret</td>\n",
       "      <td>Mcdonald</td>\n",
       "      <td>[skLearn, Java, R, SQL, Spark, C++]</td>\n",
       "      <td>AL</td>\n",
       "      <td>({'specialty': 'Database'}, {'experience': 'Ju...</td>\n",
       "      <td>no</td>\n",
       "    </tr>\n",
       "    <tr>\n",
       "      <th>1</th>\n",
       "      <td>Michael</td>\n",
       "      <td>Carter</td>\n",
       "      <td>[TensorFlow, R, Spark, MongoDB, C++, SQL]</td>\n",
       "      <td>AR</td>\n",
       "      <td>({'specialty': 'Data Visualization'}, {'experi...</td>\n",
       "      <td>yes</td>\n",
       "    </tr>\n",
       "    <tr>\n",
       "      <th>2</th>\n",
       "      <td>Brenda</td>\n",
       "      <td>Tyler</td>\n",
       "      <td>[Spark]</td>\n",
       "      <td>UT</td>\n",
       "      <td>({'specialty': 'Database'}, {'experience': 'Mi...</td>\n",
       "      <td>no</td>\n",
       "    </tr>\n",
       "    <tr>\n",
       "      <th>3</th>\n",
       "      <td>Joseph</td>\n",
       "      <td>King</td>\n",
       "      <td>[skLearn, SQL, R, Spark, Java, C++, Python, Te...</td>\n",
       "      <td>FL</td>\n",
       "      <td>({'specialty': 'Statistics'}, {'experience': '...</td>\n",
       "      <td>maybe</td>\n",
       "    </tr>\n",
       "    <tr>\n",
       "      <th>4</th>\n",
       "      <td>Laura</td>\n",
       "      <td>Webb</td>\n",
       "      <td>[TensorFlow, C++, SQL, Java, R, MongoDB]</td>\n",
       "      <td>WY</td>\n",
       "      <td>({'specialty': 'Machine Learning'}, {'experien...</td>\n",
       "      <td>maybe</td>\n",
       "    </tr>\n",
       "  </tbody>\n",
       "</table>\n",
       "</div>"
      ],
      "text/plain": [
       "  first_name last_name                                             skills  \\\n",
       "0   Margaret  Mcdonald                [skLearn, Java, R, SQL, Spark, C++]   \n",
       "1    Michael    Carter          [TensorFlow, R, Spark, MongoDB, C++, SQL]   \n",
       "2     Brenda     Tyler                                            [Spark]   \n",
       "3     Joseph      King  [skLearn, SQL, R, Spark, Java, C++, Python, Te...   \n",
       "4      Laura      Webb           [TensorFlow, C++, SQL, Java, R, MongoDB]   \n",
       "\n",
       "  state                                    specialty_exper relocation  \n",
       "0    AL  ({'specialty': 'Database'}, {'experience': 'Ju...         no  \n",
       "1    AR  ({'specialty': 'Data Visualization'}, {'experi...        yes  \n",
       "2    UT  ({'specialty': 'Database'}, {'experience': 'Mi...         no  \n",
       "3    FL  ({'specialty': 'Statistics'}, {'experience': '...      maybe  \n",
       "4    WY  ({'specialty': 'Machine Learning'}, {'experien...      maybe  "
      ]
     },
     "execution_count": 235,
     "metadata": {},
     "output_type": "execute_result"
    }
   ],
   "source": [
    "cols=['first_name','last_name','skills','state','specialty_exper','relocation']\n",
    "job_seekers_=pd.DataFrame(nested_ppl,columns=cols,)\n",
    "\n",
    "pd.DataFrame.to_csv(job_seekers_,'job_seekers.csv')\n",
    "job_seekers_.head()"
   ]
  },
  {
   "cell_type": "markdown",
   "metadata": {},
   "source": [
    "# MongoDB Lecture 02:\n",
    "\n",
    "**`with Mr Fugu Data Science`**\n",
    "\n",
    "\n",
    "# (◕‿◕✿)\n",
    "\n",
    "[Youtube](https://www.youtube.com/channel/UCbni-TDI-Ub8VlGaP8HLTNw/) | [Github](https://github.com/MrFuguDataScience)\n",
    "\n",
    "\n",
    "# Objective & Outcome:\n",
    "\n",
    "+ Create Updates\n",
    "    + Deal with Nested data\n",
    "        + Indexing\n",
    "    \n",
    "            + Aggregates"
   ]
  },
  {
   "cell_type": "markdown",
   "metadata": {},
   "source": [
    "# Creating Actual `Nested Dictionary (JSON)` format for MongoDB"
   ]
  },
  {
   "cell_type": "code",
   "execution_count": 236,
   "metadata": {},
   "outputs": [],
   "source": [
    "candidates_=list(zip(first_name,last_name,create_rndm_sklls(skills),\n",
    "                    state_rnd,spec_,exper_,relocation_))\n",
    "cols_=['first_name','last_name','skills','state','specialty','experience','relocation']\n",
    "\n",
    "un_nested_candidates=pd.DataFrame(candidates_,columns=cols_)"
   ]
  },
  {
   "cell_type": "code",
   "execution_count": 237,
   "metadata": {},
   "outputs": [
    {
     "data": {
      "text/plain": [
       "[{'candidate': {'first_name': 'Margaret',\n",
       "   'last_name': 'Mcdonald',\n",
       "   'skills': ['skLearn', 'Java', 'R', 'SQL', 'Spark', 'C++'],\n",
       "   'state': 'AL',\n",
       "   'specialty': 'Database',\n",
       "   'experience': 'Junior',\n",
       "   'relocation': 'no'}},\n",
       " {'candidate': {'first_name': 'Michael',\n",
       "   'last_name': 'Carter',\n",
       "   'skills': ['TensorFlow', 'R', 'Spark', 'MongoDB', 'C++', 'SQL'],\n",
       "   'state': 'AR',\n",
       "   'specialty': 'Data Visualization',\n",
       "   'experience': 'Junior',\n",
       "   'relocation': 'yes'}}]"
      ]
     },
     "execution_count": 237,
     "metadata": {},
     "output_type": "execute_result"
    }
   ],
   "source": [
    "\n",
    "\n",
    "def df_to_nested_json(df, candidate, lat='state'):\n",
    "    _json = {'features':[]}\n",
    "    \n",
    "    for _, row in df.iterrows():\n",
    "        feature = {'candidate':{}}\n",
    "#                    'specialty_experience':{}}\n",
    "#         feature['specialty_experience']['state'] = [row[lat]]\n",
    "#         feature['specialty_experience']['skills'] = [row[lon]\n",
    "        for prop in candidate:\n",
    "            feature['candidate'][prop] = row[prop]\n",
    "        _json['features'].append(feature)\n",
    "    return _json\n",
    "\n",
    "#-------------------------\n",
    "\n",
    "cols=un_nested_candidates.columns\n",
    "\n",
    "people_json=df_to_nested_json(un_nested_candidates, cols)\n",
    "\n",
    "people_json['features'][:2]"
   ]
  },
  {
   "cell_type": "code",
   "execution_count": 240,
   "metadata": {},
   "outputs": [],
   "source": [
    "# Making a Connection to MongoClient\n",
    "client = pym.MongoClient('mongodb://localhost:27017/')\n",
    "\n",
    "# CREATING A DATABASE:\n",
    "db = client[\"berkeley\"]\n",
    "\n",
    "# CREATING A COLLECTION (*AKA* TABLE):\n",
    "recruiter_clients= db[\"recruiter_clients\"]"
   ]
  },
  {
   "cell_type": "code",
   "execution_count": 241,
   "metadata": {},
   "outputs": [
    {
     "data": {
      "text/plain": [
       "<pymongo.results.InsertManyResult at 0x1934a88c8>"
      ]
     },
     "execution_count": 241,
     "metadata": {},
     "output_type": "execute_result"
    }
   ],
   "source": [
    "# SENDING THE LIST OF DICTIONARIES TO MONGO via PyMongo:\n",
    "\n",
    "db.recruiter_clients.insert_many(people_json['features'])"
   ]
  },
  {
   "cell_type": "markdown",
   "metadata": {},
   "source": [
    "# `Now Time to Start MongoDB:`"
   ]
  },
  {
   "cell_type": "markdown",
   "metadata": {},
   "source": [
    "`_________________________________`\n",
    "\n"
   ]
  },
  {
   "cell_type": "markdown",
   "metadata": {},
   "source": [
    "# nested data:\n",
    "\n",
    "+ Think *SUB*documents, where you are using: out_key.inner_key to start entering the nested documents."
   ]
  },
  {
   "cell_type": "markdown",
   "metadata": {},
   "source": [
    "**Example of our dataset ( 2 entries )**:\n",
    "\n",
    "`{[{'candidate': {'first_name': 'Margaret',\n",
    "   'last_name': 'Mcdonald',\n",
    "   'skills': ['skLearn', 'Java', 'R', 'SQL', 'Spark', 'C++'],\n",
    "   'state': 'AL',\n",
    "   'specialty': 'Machine Learning',\n",
    "   'experience': 'Mid',\n",
    "   'relocation': 'no'}},\n",
    " {'candidate': {'first_name': 'Michael',\n",
    "   'last_name': 'Carter',\n",
    "   'skills': ['TensorFlow', 'R', 'Spark', 'MongoDB', 'C++', 'SQL'],\n",
    "   'state': 'AR',\n",
    "   'specialty': 'Machine Learning',\n",
    "   'experience': 'Junior',\n",
    "   'relocation': 'yes'}}]`\n",
    " \n",
    "  \n",
    "  \n",
    "`____________________________________`\n",
    "\n",
    "**`Query Nested Portion`**: use the (*dot*) operator, think method like Java or Python\n",
    "\n",
    "# Nested Queries:\n",
    "\n",
    "\n",
    "`Find Only people with skills in Spark`\n",
    "  \n",
    "**`db.recruiter_clients.find({'candidate.skills':['Spark']},{_id:0});`**\n",
    "\n",
    "`Find all people who have at least Python`\n",
    "\n",
    "**`db.recruiter_clients.find({'candidate.skills':{`$all`:['Python']}},{_id:0});`**\n",
    "\n",
    "\n",
    "`Find all that (do not) have certain skills`:\n",
    "\n",
    "**`db.recruiter_clients.find({'candidate.skills':{`$nin`:['Python']}},{_id:0});`**\n",
    "\n",
    "`People who live in California and don't want to move`:\n",
    "\n",
    "**`db.recruiter_clients.find({'candidate.state':'CA','candidate.relocation':'no'});`**\n",
    "\n",
    "`Find People in California OR Florida`:\n",
    "\n",
    "**`db.recruiter_clients.find({$or :[{'candidate.state':'CA'},{'candidate.state':'FL'}]});`**\n",
    "\n",
    "`-------------------------------------`\n",
    "\n",
    "[Mongo embeded queries doc](https://docs.mongodb.com/manual/tutorial/query-array-of-documents/)"
   ]
  },
  {
   "cell_type": "markdown",
   "metadata": {},
   "source": [
    "`__________________________________________`\n",
    "\n",
    "# Update:\n",
    "\n",
    "+ Requires two parameters: `(citeria,operation)`\n",
    "\n",
    "*`Criteria`:* think of objects that will be used with `find( )`\n",
    "\n",
    "*`Operation:`* either a modifier operation, or an object that will match the fields for the document you will replace.\n",
    "\n",
    "\n",
    "[update_mongo doc](https://docs.mongodb.com/manual/reference/method/db.collection.update/#update-method-examples) | [update operators mongo](https://docs.mongodb.com/manual/reference/operator/update/)\n",
    "\n",
    "| Name           \t| Description                                                                                                       \t|\n",
    "|----------------\t|-------------------------------------------------------------------------------------------------------------------\t|\n",
    "| **`$currentDate`** \t| set as *timestamp* or *Date*                                                                                      \t|\n",
    "| **`$inc`**        \t| increments                                                                                                        \t|\n",
    "|**`$min`**         \t| only changes if the new min. value is < current value                                                             \t|\n",
    "|**`$max`**         \t| only changes if new  max is > current value                                                                       \t|\n",
    "| **`$mul`**         \t| multiplies field by specified value                                                                               \t|\n",
    "| **`$rename`**      \t| renames field                                                                                                     \t|\n",
    "| **`$set`**        \t| will set, the value to field                                                                                      \t|\n",
    "| **`$setOnInsert`** \t| **1.)** will set value if it inserts a field into document. **2.)** Doesn't effect/modify existing documents with update \t|\n",
    "| **`$unset`**       \t| removes the field from document                                                                                   \t|\n",
    "\n",
    "`_________________________________`\n",
    "\n",
    "*This is not a full list and adapted from MongoDB* documentation*\n",
    "\n",
    "# General Format for update:\n",
    "\n",
    "\n",
    "`{\n",
    "  <update operator>: { <field1>: <value1>, ... },\n",
    "  <update operator>: { <field2>: <value2>, ... },\n",
    "  ...\n",
    "}`\n",
    "\n",
    "\n",
    "\n",
    "\n",
    "\n",
    "`______________________`\n",
    "\n",
    "# Update Queries:\n",
    "\n",
    "`Update a Last_Name for 1 perosn using `$set` operator`:\n",
    "\n",
    "**`db.recruiter_clients.updateOne({_id : ObjectId(\"5eb5cc5b47c72ccce7539d9f\")},{$set:{'candidate.last_name':'Stoute'}, $currentDate: { lastModified: true }});`**\n",
    "\n",
    "* you don't need to add the *`lastModified`*\n",
    "\n",
    "`Update the last person and ADD a new skill with `$push` operator`\n",
    "\n",
    "**`db.recruiter_clients.updateOne({_id : ObjectId(\"5eb5cc5b47c72ccce7539d9f\")},{$push:{'candidate.skills':'Python'}});`**\n",
    "\n",
    "\n",
    "\n",
    "`___________________________`\n"
   ]
  },
  {
   "cell_type": "markdown",
   "metadata": {},
   "source": [
    "# Indexing:\n",
    "\n",
    "+ When you create a `document`, mongo will generate an `index` for the *`_id`* attribute. You can find this by: *system.indexes* for your collection such as **`db.your_collection_name.getIndexes()`**\n",
    "    + This will return an array within your collection, containing indexex\n",
    "\n",
    "+ *`Without Indexes, mongo would have to search the whole document in your collection!`*\n",
    "    + Indexes, limits the number of searches (saving you time), because they save you from unnecessary read operations. \n",
    "    \n",
    "    + *`An Index, will store a small portion of your collection to traverse. It will either: a specific field or multiple fields and then order them. Because, they are ordered you are able to run quieres based on range or match by equality for example.`* \n",
    "    \n",
    "+ *A few types of Indexing: `B-Tree, spherical GeoJSON, two-dimensional`*\n",
    "\n",
    "[.getIndex( ) info](https://docs.mongodb.com/manual/reference/method/db.collection.getIndexes/) | [Index specifics](https://docs.mongodb.com/manual/indexes/)\n",
    "\n",
    "\n",
    "`A few side notes about Indexes`:\n",
    "\n",
    "+ They can be more costly than if you were using PostgreSQL (since Mongo is schema-less) \n",
    "+ Use them when there are non-peak times if possible\n",
    "\n"
   ]
  },
  {
   "cell_type": "markdown",
   "metadata": {},
   "source": [
    "# Create Index, based on Text keywords:\n",
    "\n",
    "`Setup an Index, where we use two fields \"skills and specialty\" where we search text for specific values`\n",
    "\n",
    "**`db.recruiter_clients.createIndex({'candidate.skills':'text','candidate.specialty':'text'},{name:'text_search'});`**\n",
    "\n",
    "`Query our Index, find any of the text words for \"Python or Machine Learning\"`:\n",
    "\n",
    "**`db.recruiter_clients.find({$text: {$search:'Python, Machine Learning'}});`**\n",
    "\n",
    "\n",
    "`Manage/Find Indexes you may have`:\n",
    "\n",
    "**`db.recruiter_clients.getIndexes()`**\n",
    "\n",
    "**`Drop All Indexes from a specific collection: if you don't need them`**:\n",
    "\n",
    "`db.runCommand( { dropIndexes: \"recruiter_clients\", index: \"*\" } )`\n",
    "\n",
    "\n",
    "**`Drop multiple Indexes by Name of Index`**:\n",
    "\n",
    "`db.runCommand( { dropIndexes: \"collection\", index: [ \"Index_name01\", \"Index_name02\" ] }\n",
    ")`\n",
    "\n",
    "**`Drop The current Index we made by the Name 'text_search'`**:\n",
    "\n",
    "`db.recruiter_clients.dropIndex('text_search');`\n",
    "\n",
    "`_________________________________`\n",
    "\n",
    "**`Alternate Text Index with Wildcard, able to search unstructured data and look for specific queries through all fields that are strings`**:\n",
    "\n",
    "`db.recruiter_clients.createIndex( { \"$**\": \"text\" },{name:'text_s'} )`\n",
    "\n",
    "**`To drop this Index`**:\n",
    "\n",
    "`db.recruiter_clients.dropIndex('text_s' )`\n",
    "\n",
    "\n",
    "`----------------------------------------------------`"
   ]
  },
  {
   "cell_type": "markdown",
   "metadata": {},
   "source": [
    "# Aggregate:\n",
    "\n",
    "+ Take in some form of computation and return a result. There are 3 types of aggregation:\n",
    "\n",
    "1.) *`Aggregation Pipline:`* basically, a multi-stage function\n",
    "\n",
    "+ Can use indexing to improve performance\n",
    "+ Can be used with *sharding*\n",
    "+ you can apply filters, grouping, averaging of a specific field/s are just a few\n",
    "\n",
    " * A few examples in the pipline: `$group, $match, $sort` \n",
    " * You can do Chaining just like PostgreSQL such as: `WHERE, GROUP BY, ORDER BY `\n",
    "\n",
    "2.)*`map reduce:`* less effective than a pipline; but, it is highly flexible since its *Javascript*\n",
    "+ *`Map`*: takes data splits it, does operations\n",
    "+ *` Reduce`*: recombines data\n",
    "\n",
    "3.) *`single purpose aggregation:`* will aggregate based on a single collection\n",
    "\n",
    "`-------------------------`\n",
    "\n",
    "+ A few single purpose types: `Count( ),aggregate( ), distinct( )`\n",
    "\n",
    "\n",
    "[Aggregate info](https://docs.mongodb.com/manual/aggregation/) | "
   ]
  },
  {
   "cell_type": "markdown",
   "metadata": {},
   "source": [
    "**`Find the Number of Skills each person has`**\n",
    "\n",
    "` db.recruiter_clients.aggregate([{$project:{'candidate.first_name':1,'candidate.last_name':1,numberOfSkills:{$cond:{if:{$isArray:'$candidate.skills'},then:{$size:'$candidate.skills'},else:'NA'}}}}])`"
   ]
  },
  {
   "cell_type": "markdown",
   "metadata": {},
   "source": [
    "**`Find all matches in a string where the specialty is Machine Learning`**\n",
    "\n",
    "`db.recruiter_clients.aggregate( [ { $match: { 'candidate.specialty': 'Machine Learning'}}])`"
   ]
  },
  {
   "cell_type": "markdown",
   "metadata": {},
   "source": [
    "_____________------------____________------------\n",
    "\n",
    "# Like\n",
    "\n",
    "# SUBscribe\n",
    "\n",
    "+ THANKS FOR WATCHING AND SEE YOU IN THE NEXT VIDEO!"
   ]
  },
  {
   "cell_type": "markdown",
   "metadata": {},
   "source": [
    "# Citations:\n",
    "\n",
    "https://www.red-gate.com/simple-talk/blogs/enjoying-joins-in-mongodb/ (MongoDB Join Info)\n",
    "\n",
    "https://medium.com/dbkoda/coding-efficient-mongodb-joins-97fe0627751a\n",
    "\n",
    "https://www.researchgate.net/publication/335873099_Performance_analysis_of_Not_Only_SQL_semi-stream_join_using_MongoDB_for_real-time_data_warehousing\n",
    "\n",
    "https://stackoverflow.com/questions/49580996/why-do-my-lists-become-strings-after-saving-to-csv-and-re-opening-python\n",
    "\n",
    "https://stackoverflow.com/questions/57238899/function-to-create-nested-dictionary-from-lists\n",
    "\n",
    "https://medium.com/@paulrohan/aggregation-in-mongodb-8195c8624337"
   ]
  }
 ],
 "metadata": {
  "kernelspec": {
   "display_name": "Python 3",
   "language": "python",
   "name": "python3"
  },
  "language_info": {
   "codemirror_mode": {
    "name": "ipython",
    "version": 3
   },
   "file_extension": ".py",
   "mimetype": "text/x-python",
   "name": "python",
   "nbconvert_exporter": "python",
   "pygments_lexer": "ipython3",
   "version": "3.7.3"
  }
 },
 "nbformat": 4,
 "nbformat_minor": 4
}
