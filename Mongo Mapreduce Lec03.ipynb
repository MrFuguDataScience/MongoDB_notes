{
 "cells": [
  {
   "cell_type": "markdown",
   "metadata": {},
   "source": [
    "# MongoDB Beginners Help: Map-Reduce\n",
    "**`with Mr Fugu Data Science`**\n",
    "\n",
    "# (◕‿◕✿)\n",
    "\n",
    "[Youtube](https://www.youtube.com/channel/UCbni-TDI-Ub8VlGaP8HLTNw?view_as=subscriber) | [Github](https://github.com/MrFuguDataScience) \n",
    "\n",
    "# Objective & Outcome:\n",
    "+ Basic Idea of Map-Reduce\n",
    "    + Create Examples with explanations\n",
    "        + Show use cases for Aggregate functions by example\n",
    "    \n",
    "[Map-reduce ](https://docs.mongodb.com/manual/core/map-reduce/)\n",
    "\n",
    "`_____________________________________`"
   ]
  },
  {
   "cell_type": "markdown",
   "metadata": {},
   "source": [
    "# Map-Reduce Background:\n",
    "+ Used for parallel computing, across large datasets and used with multiple computers (*nodes*), which is then referred to as a cluster if all the nodes are on the same network. \n",
    "    + Similarly a `grid`, would be nodes that share data that is geographically and administratively distributed.\n",
    "+ Data will be processed by either: `file system` or `database`.    \n",
    "* `File system`: unstructured data\n",
    "* `Database`: structured data\n",
    " \n",
    "General Idea:\n",
    "\n",
    "1.) **Map** : takes local data, relative to that `node`, writes to a temp file. A `master` \n",
    "             node then makes a sure only a single copy of the data is stored. \n",
    "\n",
    "2.) **Shuffle** : redistribute the data, where the same data will be with same node.\n",
    "\n",
    "3.) **Reduce** : procecess data by `key`, in parallel.\n",
    "\n",
    "\n",
    "[Map-reduce wiki](https://en.wikipedia.org/wiki/MapReduce)\n",
    "\n",
    "*side note: this is an over-simplified generalization*"
   ]
  },
  {
   "cell_type": "markdown",
   "metadata": {},
   "source": [
    "+ All Map-Reduce operations in `MongoDB` are Javascript, and run inside the `MongoD` procuess. \n",
    "    + The Map-Reduce, takes documents from a *single* collection as *input* and has the ability to sort and limit data before the `Map` step.\n",
    "    + The output can be returned as a `document or as collections`.\n",
    "    \n",
    "**`Map`**: Think of mapping, values to a key.\n",
    "+ if there are multiple values for a key, they will be all mapped to that key during `reduce` step.\n",
    "    \n",
    "+ The `Mapper` function will call an *`emit( )`* function with your key-value pairs.\n",
    "+ You will use: `this.` to work with whatever document you want to process for Map-Reduce\n",
    "\n",
    "**`Reduce`**: will take a `single` key and map the list of values. \n",
    "+ Essentially, `Reduce` takes in the output of `Map` as its input to recombine everything and put it into managable portions. \n",
    "\n",
    "    + `Reduce`: will not be called/used until all `emit( )` functions are finished. "
   ]
  },
  {
   "cell_type": "markdown",
   "metadata": {},
   "source": [
    "# When to use Map-Reduce?\n",
    "\n",
    "+ If you have large datasetsthat that do not fit into main memory of one machine, that is a good time.\n",
    "+ Graph analysis\n",
    "+ Classification, Inverted Index, Machine Learning, document clustering are some of the use cases. \n",
    "\n",
    "\n",
    "# Overlooked Ideas:\n",
    "\n",
    "Since the `Reduce` function can be called more than once for the same key then these need to be `True`:\n",
    "\n",
    "+ The `Reduce` function should be: `Associative, Idempotent, commutative`\n",
    "\n",
    "[Map-Reduce Nitty Gritty](https://docs.mongodb.com/manual/reference/method/db.collection.mapReduce/)"
   ]
  },
  {
   "cell_type": "markdown",
   "metadata": {},
   "source": [
    "# From the example last time: \n",
    "Lets refresh and get an idea of what we will be dealing with\n",
    "\n",
    "`[{'candidate': {'first_name': 'Margaret',\n",
    "   'last_name': 'Mcdonald',\n",
    "   'skills': ['skLearn', 'Java', 'R', 'SQL', 'Spark', 'C++'],\n",
    "   'state': 'AL',\n",
    "   'specialty': 'Database',\n",
    "   'experience': 'Junior',\n",
    "   'relocation': 'no'}},\n",
    " {'candidate': {'first_name': 'Michael',\n",
    "   'last_name': 'Carter',\n",
    "   'skills': ['TensorFlow', 'R', 'Spark', 'MongoDB', 'C++', 'SQL'],\n",
    "   'state': 'AR',\n",
    "   'specialty': 'Data Visualization',\n",
    "   'experience': 'Junior',\n",
    "   'relocation': 'yes'}}]`"
   ]
  },
  {
   "cell_type": "markdown",
   "metadata": {},
   "source": [
    "# Example 01: \n",
    "**Find all candidates, based on each state and count them. Your boss wants to get more candidates, and wants to find out what states are lacking.**\n",
    "\n",
    "+  Also, `this.` refers to the document you will process for Map-Reduce\n"
   ]
  },
  {
   "cell_type": "markdown",
   "metadata": {},
   "source": [
    "**`var mapFunc = function(){emit(this.candidate.state,{count:1});}`**\n",
    "\n",
    "**`var redFunc = function(state,val){\n",
    "    var value = {count:0};\n",
    "    for(i=0; i<val.length;i++){\n",
    "    value.count += val[i].count;}\n",
    "    return value;}`**\n",
    "\n",
    "**`db.recruiter_clients.mapReduce(mapFunc,redFunc,{out:'skills_byState'})`**\n",
    "\n",
    "**`db.skills_byState.find().pretty()`**\n",
    "\n",
    "**`db.skills_byState.find().sort({value:1})`** # Ascending order 1, decending : -1"
   ]
  },
  {
   "cell_type": "markdown",
   "metadata": {},
   "source": [
    "**Output options**:\n",
    "\n",
    "+ `Inline`: `{ out: { inline : 1 }}`\n",
    "This allows output to be shown on the screen, instead of dumped as a file to call. Not good if you have a large amount of data to process. \n",
    "\n",
    "+ `Default`: output to a file, where the `inline :false`\n",
    "\n",
    "There is a size limit to around 16mb printed out when using `inline: 1`\n",
    "\n",
    "`--------------------------------------`"
   ]
  },
  {
   "cell_type": "markdown",
   "metadata": {},
   "source": [
    "# Example 02:\n",
    "\n",
    "*Assume your boss is interested in what the fequency of all `skills` look like so you build this Mapreduce*\n",
    "\n",
    "**`var mapFunc = function(){ var skill = this.candidate.skills;for(i in skill){emit(skill[i],1);}}`**\n",
    "\n",
    "**`var redFunc = function(key,vals){var count=0;\n",
    "for(i in vals){count += vals[i];} return count;}`** \n",
    "\n",
    "**` db.recruiter_clients.mapReduce(mapFunc,redFunc,{out:'skills_stuff'})`**\n",
    "\n",
    "**`db.skills_stuff.find()`**"
   ]
  },
  {
   "cell_type": "markdown",
   "metadata": {},
   "source": [
    "# Output: \n",
    " db.recruiter_clients.mapReduce( mapFunc,redFunc,{out:'skills_stuff'} )\n",
    "\n",
    "{\n",
    "\t\"result\" : \"skills_stuff\",\n",
    "    \n",
    "\t\"timeMillis\" : 1829,\n",
    "    \n",
    "\t\"counts\" : {\n",
    "    \n",
    "\t\t\"input\" : 500,\n",
    "        \n",
    "\t\t\"emit\" : 2469,\n",
    "        \n",
    "\t\t\"reduce\" : 45,\n",
    "        \n",
    "\t\t\"output\" : 9\n",
    "\t},\n",
    "    \n",
    "\t\"ok\" : 1\n",
    "}\n",
    "\n",
    "> db.skills_stuff.find()\n",
    "\n",
    "{ \"_id\" : \"C++\", \"value\" : 274 }\n",
    "\n",
    "{ \"_id\" : \"Java\", \"value\" : 267 }\n",
    "\n",
    "{ \"_id\" : \"MongoDB\", \"value\" : 274 }\n",
    "\n",
    "{ \"_id\" : \"Python\", \"value\" : 273 }\n",
    "\n",
    "{ \"_id\" : \"R\", \"value\" : 272 }\n",
    "\n",
    "{ \"_id\" : \"SQL\", \"value\" : 277 }\n",
    "\n",
    "{ \"_id\" : \"Spark\", \"value\" : 285 }\n",
    "\n",
    "{ \"_id\" : \"TensorFlow\", \"value\" : 280 }\n",
    "\n",
    "{ \"_id\" : \"skLearn\", \"value\" : 267 }\n",
    "> \n"
   ]
  },
  {
   "cell_type": "markdown",
   "metadata": {},
   "source": [
    "# Example 03:\n",
    "\n",
    "+ Relocation: True means yes\n",
    "\n",
    "`db.recruiter_clients.aggregate([{$project:{'candidate.first_name': 1,'candidate.last_name': 1, reloc_yes: { $eq: [ '$candidate.relocation', 'yes' ]},_id:0}}])`"
   ]
  },
  {
   "cell_type": "markdown",
   "metadata": {},
   "source": [
    "# Relocation: True means (yes or maybe)\n",
    "+ Returns First,Last name where someone is willing to move or might move\n",
    "\n",
    "`db.recruiter_clients.aggregate([{$project:{'candidate.first_name': 1,'candidate.last_name': 1, reloc_yes: {$or:[{$eq: [ '$candidate.relocation', 'yes' ]},{$eq: [ '$candidate.relocation', 'maybe' ]}]},_id:0}}])`"
   ]
  },
  {
   "cell_type": "markdown",
   "metadata": {},
   "source": [
    "# Relocation excluding (NO): But prints weird, Look carefully\n",
    "+ Returns everyone, but excludes relocation details if they said NO\n",
    "\n",
    "`db.recruiter_clients.aggregate([{$project: {\n",
    "'candidate.first_name': 1,\n",
    "'candidate.last_name': 1,\n",
    "'candidate.relocation': {\n",
    "$cond: {if: {$eq: ['$candidate.relocation','no']},then: '$$REMOVE',\n",
    "else: '$candidate.relocation'}},_id:0}}])`"
   ]
  },
  {
   "cell_type": "markdown",
   "metadata": {},
   "source": [
    "# Prints everything where `Relocation = Yes`\n",
    "\n",
    "\n",
    "db.recruiter_clients.aggregate([ { $match : { 'candidate.relocation' : \"yes\" } } ])"
   ]
  },
  {
   "cell_type": "markdown",
   "metadata": {},
   "source": [
    "`----------------------`\n",
    "\n",
    "# CIAO\n",
    "\n",
    "# ◔̯◔\n",
    "\n"
   ]
  }
 ],
 "metadata": {
  "kernelspec": {
   "display_name": "Python 3",
   "language": "python",
   "name": "python3"
  },
  "language_info": {
   "codemirror_mode": {
    "name": "ipython",
    "version": 3
   },
   "file_extension": ".py",
   "mimetype": "text/x-python",
   "name": "python",
   "nbconvert_exporter": "python",
   "pygments_lexer": "ipython3",
   "version": "3.7.3"
  }
 },
 "nbformat": 4,
 "nbformat_minor": 4
}
